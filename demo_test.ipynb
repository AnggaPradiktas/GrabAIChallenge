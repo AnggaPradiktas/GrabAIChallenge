{
  "nbformat": 4,
  "nbformat_minor": 0,
  "metadata": {
    "colab": {
      "name": "demo_test.ipynb",
      "version": "0.3.2",
      "provenance": [],
      "include_colab_link": true
    },
    "language_info": {
      "codemirror_mode": {
        "name": "ipython",
        "version": 3
      },
      "file_extension": ".py",
      "mimetype": "text/x-python",
      "name": "python",
      "nbconvert_exporter": "python",
      "pygments_lexer": "ipython3",
      "version": "3.7.3"
    },
    "kernelspec": {
      "name": "python3",
      "display_name": "Python 3"
    },
    "accelerator": "GPU"
  },
  "cells": [
    {
      "cell_type": "markdown",
      "metadata": {
        "id": "view-in-github",
        "colab_type": "text"
      },
      "source": [
        "<a href=\"https://colab.research.google.com/github/AnggaPradiktas/GrabAIChallenge/blob/master/demo_test.ipynb\" target=\"_parent\"><img src=\"https://colab.research.google.com/assets/colab-badge.svg\" alt=\"Open In Colab\"/></a>"
      ]
    },
    {
      "cell_type": "code",
      "metadata": {
        "id": "y7wfWl7HNFbq",
        "colab_type": "code",
        "colab": {
          "base_uri": "https://localhost:8080/",
          "height": 35
        },
        "outputId": "d848a75b-37b7-4608-b997-0bcf8fe141fc"
      },
      "source": [
        "from google.colab import drive\n",
        "drive.mount('/content/drive', force_remount=True)"
      ],
      "execution_count": 1,
      "outputs": [
        {
          "output_type": "stream",
          "text": [
            "Drive already mounted at /content/drive; to attempt to forcibly remount, call drive.mount(\"/content/drive\", force_remount=True).\n"
          ],
          "name": "stdout"
        }
      ]
    },
    {
      "cell_type": "code",
      "metadata": {
        "id": "WpMqfe8ZNdAv",
        "colab_type": "code",
        "colab": {}
      },
      "source": [
        "import os\n",
        "os.chdir(\"drive/My Drive/Colab Notebooks\")"
      ],
      "execution_count": 0,
      "outputs": []
    },
    {
      "cell_type": "code",
      "metadata": {
        "id": "3yVQbGYiNDEH",
        "colab_type": "code",
        "colab": {
          "base_uri": "https://localhost:8080/",
          "height": 35
        },
        "outputId": "49e78269-15aa-4d48-912a-f54e0a32ac3d"
      },
      "source": [
        "import json\n",
        "import os\n",
        "import random\n",
        "import cv2 as cv\n",
        "import keras.backend as K\n",
        "import numpy as np\n",
        "import scipy.io"
      ],
      "execution_count": 4,
      "outputs": [
        {
          "output_type": "stream",
          "text": [
            "Using TensorFlow backend.\n"
          ],
          "name": "stderr"
        }
      ]
    },
    {
      "cell_type": "code",
      "metadata": {
        "id": "ar_nSZfsNDEO",
        "colab_type": "code",
        "colab": {}
      },
      "source": [
        "from utils import load_model"
      ],
      "execution_count": 0,
      "outputs": []
    },
    {
      "cell_type": "code",
      "metadata": {
        "id": "FyTTfS-uNDER",
        "colab_type": "code",
        "colab": {
          "base_uri": "https://localhost:8080/",
          "height": 410
        },
        "outputId": "67198845-c538-4f76-87c3-c49993086bcd"
      },
      "source": [
        "if __name__ == '__main__':\n",
        "    img_width, img_height = 224, 224\n",
        "    model = load_model()\n",
        "    model.load_weights('model/model.46-0.99.hdf5')\n",
        "\n",
        "    cars_meta = scipy.io.loadmat('devkit/cars_meta')\n",
        "    class_names = cars_meta['class_names']  # shape=(1, 196)\n",
        "    class_names = np.transpose(class_names)\n",
        "\n",
        "    test_path = 'data/test/'\n",
        "    test_images = [f for f in os.listdir(test_path) if\n",
        "                   os.path.isfile(os.path.join(test_path, f)) and f.endswith('.jpg')]\n",
        "\n",
        "    num_samples = 20\n",
        "    samples = random.sample(test_images, num_samples)\n",
        "    results = []\n",
        "    for i, image_name in enumerate(samples):\n",
        "        filename = os.path.join(test_path, image_name)\n",
        "        print('Start processing image: {}'.format(filename))\n",
        "        bgr_img = cv.imread(filename)\n",
        "        bgr_img = cv.resize(bgr_img, (img_width, img_height), cv.INTER_CUBIC)\n",
        "        rgb_img = cv.cvtColor(bgr_img, cv.COLOR_BGR2RGB)\n",
        "        rgb_img = np.expand_dims(rgb_img, 0)\n",
        "        preds = model.predict(rgb_img)\n",
        "        prob = np.max(preds)\n",
        "        class_id = np.argmax(preds)\n",
        "        text = ('Predict: {}, prob: {}'.format(class_names[class_id][0][0], prob))\n",
        "        results.append({'label': class_names[class_id][0][0], 'prob': '{:.4}'.format(prob)})\n",
        "        cv.imwrite('images/{}_out.png'.format(i), bgr_img)\n",
        "\n",
        "    print(results)\n",
        "    with open('results.json', 'w') as file:\n",
        "        json.dump(results, file, indent=4)\n",
        "\n",
        "    K.clear_session()"
      ],
      "execution_count": 7,
      "outputs": [
        {
          "output_type": "stream",
          "text": [
            "Start processing image: data/test/07384.jpg\n",
            "Start processing image: data/test/05148.jpg\n",
            "Start processing image: data/test/01410.jpg\n",
            "Start processing image: data/test/01633.jpg\n",
            "Start processing image: data/test/00112.jpg\n",
            "Start processing image: data/test/05400.jpg\n",
            "Start processing image: data/test/05290.jpg\n",
            "Start processing image: data/test/04489.jpg\n",
            "Start processing image: data/test/03699.jpg\n",
            "Start processing image: data/test/04916.jpg\n",
            "Start processing image: data/test/05034.jpg\n",
            "Start processing image: data/test/06628.jpg\n",
            "Start processing image: data/test/07116.jpg\n",
            "Start processing image: data/test/01696.jpg\n",
            "Start processing image: data/test/02126.jpg\n",
            "Start processing image: data/test/01787.jpg\n",
            "Start processing image: data/test/02171.jpg\n",
            "Start processing image: data/test/04639.jpg\n",
            "Start processing image: data/test/04307.jpg\n",
            "Start processing image: data/test/04801.jpg\n",
            "[{'label': 'Ford Mustang Convertible 2007', 'prob': '0.9883'}, {'label': 'Audi TT RS Coupe 2012', 'prob': '0.8998'}, {'label': 'Audi S5 Coupe 2012', 'prob': '0.9446'}, {'label': 'Aston Martin V8 Vantage Convertible 2012', 'prob': '0.9771'}, {'label': 'Audi RS 4 Convertible 2008', 'prob': '0.9997'}, {'label': 'BMW Z4 Convertible 2012', 'prob': '0.9999'}, {'label': 'Fisker Karma Sedan 2012', 'prob': '1.0'}, {'label': 'Dodge Challenger SRT8 2011', 'prob': '1.0'}, {'label': 'Lamborghini Diablo Coupe 2001', 'prob': '0.9612'}, {'label': 'Nissan Leaf Hatchback 2012', 'prob': '1.0'}, {'label': 'Land Rover Range Rover SUV 2012', 'prob': '0.9999'}, {'label': 'Jeep Liberty SUV 2012', 'prob': '0.9961'}, {'label': 'Buick Regal GS 2012', 'prob': '0.9996'}, {'label': 'GMC Savana Van 2012', 'prob': '0.4698'}, {'label': 'Bugatti Veyron 16.4 Coupe 2009', 'prob': '0.9959'}, {'label': 'BMW 3 Series Sedan 2012', 'prob': '0.9999'}, {'label': 'Daewoo Nubira Wagon 2002', 'prob': '0.9821'}, {'label': 'Ford F-150 Regular Cab 2007', 'prob': '0.9995'}, {'label': 'smart fortwo Convertible 2012', 'prob': '0.9995'}, {'label': 'Chevrolet Impala Sedan 2007', 'prob': '0.9991'}]\n"
          ],
          "name": "stdout"
        }
      ]
    },
    {
      "cell_type": "code",
      "metadata": {
        "id": "cnQJ4DR8NDEV",
        "colab_type": "code",
        "colab": {}
      },
      "source": [
        ""
      ],
      "execution_count": 0,
      "outputs": []
    }
  ]
}